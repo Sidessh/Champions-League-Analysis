{
 "cells": [
  {
   "cell_type": "code",
   "execution_count": 1,
   "metadata": {},
   "outputs": [],
   "source": [
    "import pandas as pd"
   ]
  },
  {
   "cell_type": "code",
   "execution_count": 7,
   "metadata": {},
   "outputs": [],
   "source": [
    "df = pd.read_csv('AllTimeRankingByClub.csv', encoding = 'utf-16')"
   ]
  },
  {
   "cell_type": "code",
   "execution_count": 8,
   "metadata": {},
   "outputs": [],
   "source": [
    "country_dict = { \"ESP\": \"Spain\", \"ENG\": \"England\", \"ITA\" :\"Italy\", \"GER\":\"Germany\", \"POR\": \"Portugal\",\n",
    "               \"FRA\":\"France\", \"NED\":\"Netherlands\", \"POL\":\"Poland\", \"ROU\":\"Romania\", \"RUS\":\"Russia\", \n",
    "               \"AUT\":\"Austria\", \"SCO\":\"Scotland\", \"SRB\":\"Serbia\", \"SUI\":\"Switzerland\", \"SVK\":\"Slovakia\",\n",
    "               \"SVN\":\"SLovenia\", \"TUR\":\"Turkey\", \"NOR\":\"Norway\", \"ISR\":\"Israel\", \"KAZ\":\"Kazakhstan\", \n",
    "               \"AZE\":\"Azerbaijan\", \"HUN\":\"Hungary\", \"GRE\":\"Greece\", \"FIN\":\"Finland\", \"DEN\":\"Denmark\", \n",
    "                \"SWE\": \"Swedend\", \"CZE\":\"Czech Republic\", \"CYP\":\"Cyprus\", \"CRO\": \"Croatia\", \"BUL\":\"Bulgaria\", \n",
    "               \"BLR\":\"Belarus\", \"BEL\":\"Belguim\", \"UKR\":\"Ukraine\", \"MDV\":\"Moldova\"} "
   ]
  },
  {
   "cell_type": "code",
   "execution_count": 9,
   "metadata": {},
   "outputs": [],
   "source": [
    "df['Country'] = df['Country'].map(country_dict) "
   ]
  },
  {
   "cell_type": "code",
   "execution_count": 10,
   "metadata": {},
   "outputs": [],
   "source": [
    "df['Country'] = df['Country'].fillna('Moldova')"
   ]
  },
  {
   "cell_type": "code",
   "execution_count": 13,
   "metadata": {},
   "outputs": [],
   "source": [
    "df.to_csv('Ranking_clubs.csv')"
   ]
  },
  {
   "cell_type": "code",
   "execution_count": null,
   "metadata": {},
   "outputs": [],
   "source": []
  }
 ],
 "metadata": {
  "kernelspec": {
   "display_name": "Python 3",
   "language": "python",
   "name": "python3"
  },
  "language_info": {
   "codemirror_mode": {
    "name": "ipython",
    "version": 3
   },
   "file_extension": ".py",
   "mimetype": "text/x-python",
   "name": "python",
   "nbconvert_exporter": "python",
   "pygments_lexer": "ipython3",
   "version": "3.6.4"
  }
 },
 "nbformat": 4,
 "nbformat_minor": 4
}
